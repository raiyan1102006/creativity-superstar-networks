{
 "cells": [
  {
   "cell_type": "code",
   "execution_count": 1,
   "id": "84bce0e0",
   "metadata": {},
   "outputs": [],
   "source": [
    "import numpy as np\n",
    "import pandas as pd \n",
    "import json\n",
    "from collections import defaultdict\n",
    "import copy\n",
    "import pickle "
   ]
  },
  {
   "cell_type": "markdown",
   "id": "022d4d9b",
   "metadata": {},
   "source": [
    "# Load APS corpus"
   ]
  },
  {
   "cell_type": "code",
   "execution_count": 2,
   "id": "867f31f7",
   "metadata": {},
   "outputs": [],
   "source": [
    "class Paper(object):\n",
    "    def __init__(self,\n",
    "                 doi,\n",
    "                 authors,\n",
    "                 year,\n",
    "                 full_abstract,\n",
    "                 processed_abstract,\n",
    "                 abstract_word_distr):\n",
    "        \n",
    "        self.doi = doi\n",
    "        self.authors = authors\n",
    "        self.year = year\n",
    "        self.full_abstract = full_abstract\n",
    "        self.processed_abstract = processed_abstract\n",
    "        self.abstract_word_distr = abstract_word_distr"
   ]
  },
  {
   "cell_type": "code",
   "execution_count": 1,
   "id": "eb6c0bbf",
   "metadata": {},
   "outputs": [],
   "source": [
    "class APSCorpus(object):\n",
    "    def __init__(self,\n",
    "                 vocab,\n",
    "                 papers_info_dict_list,\n",
    "                 process = True):\n",
    "        \n",
    "        self.vocab = vocab\n",
    "        self.id_to_word = defaultdict()\n",
    "        self.word_to_id = defaultdict()\n",
    "        self.papers = []\n",
    "        self.doi_to_paperidx = defaultdict()\n",
    "        \n",
    "        if process:\n",
    "            self.get_id_word_mapping()\n",
    "            self.populate_papers(papers_info_dict_list)\n",
    "            \n",
    "    def get_id_word_mapping(self):\n",
    "        # vocab_id to actual word mapping\n",
    "        for idx,word in enumerate(self.vocab):\n",
    "            self.id_to_word[idx] = word\n",
    "            self.word_to_id[word] = idx\n",
    "            \n",
    "    def populate_papers(self,papers_info_dict_list):\n",
    "        for paper_dict in papers_info_dict_list:\n",
    "            self.doi_to_paperidx[paper_dict['doi']] = len(self.papers)\n",
    "            self.papers.append(Paper(paper_dict['doi'],\n",
    "                                     None,\n",
    "                                     paper_dict['year'],\n",
    "                                     paper_dict['full_abstract'],\n",
    "                                     paper_dict['updated_abstract'],\n",
    "                                     paper_dict['abstract_word_distr']\n",
    "                                    ))"
   ]
  },
  {
   "cell_type": "code",
   "execution_count": 4,
   "id": "b815e75e",
   "metadata": {},
   "outputs": [],
   "source": [
    "filehandler = open('data/apscorpus.obj', 'rb') \n",
    "corpus = pickle.load(filehandler)"
   ]
  },
  {
   "cell_type": "code",
   "execution_count": 10,
   "id": "c759eb72",
   "metadata": {},
   "outputs": [
    {
     "data": {
      "text/plain": [
       "'An extension to transition state theory is presented that is capable of computing quantitatively the diffusivity of adsorbed molecules in confined systems at nonzero loading. This extension to traditional transition state theory yields a diffusivity in excellent agreement with that obtained by conventional molecular dynamics simulations. While molecular dynamics calculations are limited to relatively fast diffusing molecules or small rigid molecules, our approach extends the range of accessible time scales significantly beyond currently available methods. It is applicable in any system containing free energy barriers and for any type of guest molecule.'"
      ]
     },
     "execution_count": 10,
     "metadata": {},
     "output_type": "execute_result"
    }
   ],
   "source": [
    "id_ = 5\n",
    "corpus.papers[id_].full_abstract"
   ]
  },
  {
   "cell_type": "code",
   "execution_count": 11,
   "id": "1f8a50c4",
   "metadata": {},
   "outputs": [
    {
     "data": {
      "text/plain": [
       "'extens transit state theori present capabl comput quantit diffus adsorb molecul confin system nonzero load extens tradit transit state theori yield diffus excel agreement obtain convent molecular dynam simul molecular dynam calcul limit relat fast diffus molecul small rigid molecul approach extend rang access time scale signific beyond current avail method applic system contain free energi barrier type guest molecul'"
      ]
     },
     "execution_count": 11,
     "metadata": {},
     "output_type": "execute_result"
    }
   ],
   "source": [
    "corpus.papers[id_].processed_abstract"
   ]
  },
  {
   "cell_type": "markdown",
   "id": "2c0ec6cb",
   "metadata": {},
   "source": [
    "# Load FREX data"
   ]
  },
  {
   "cell_type": "code",
   "execution_count": 36,
   "id": "d6bd3582",
   "metadata": {},
   "outputs": [],
   "source": [
    "klist = [20,28,30,40,50,60]\n",
    "frexlist = [0.25,0.5,0.75]\n",
    "\n",
    "frex_concepts_dict = {key1:{key2:dict() for key2 in frexlist} for key1 in klist}\n",
    "\n",
    "for k in klist:\n",
    "    for frex in frexlist:\n",
    "        filename = \"data/frexconcepts_k\"+str(k)+\"_frex\"+str(frex)+\".json\"\n",
    "        f = open(filename)\n",
    "        temp_dict = json.load(f)\n",
    "        frex_concepts_dict[k][frex] = copy.deepcopy(temp_dict) # [20][0.75] holds the FREX concepts for k=20, FR=0.75"
   ]
  },
  {
   "cell_type": "markdown",
   "id": "e2377b40",
   "metadata": {},
   "source": [
    "# Create FREX space"
   ]
  },
  {
   "cell_type": "code",
   "execution_count": 40,
   "id": "8498b65b",
   "metadata": {},
   "outputs": [],
   "source": [
    "frex_space_dict = {key1:{key2:list() for key2 in frexlist} for key1 in klist}\n",
    "\n",
    "for k in klist:\n",
    "    for frex in frexlist:\n",
    "        temp_frexspace = list(set([v for key,val in frex_concepts_dict[k][frex].items() for v in val]))\n",
    "        frex_space_dict[k][frex] = copy.deepcopy(temp_frexspace)"
   ]
  },
  {
   "cell_type": "markdown",
   "id": "2613c160",
   "metadata": {},
   "source": [
    "# Export abstracts with only the FREX terms to disk"
   ]
  },
  {
   "cell_type": "code",
   "execution_count": 62,
   "id": "44783f49",
   "metadata": {},
   "outputs": [
    {
     "name": "stdout",
     "output_type": "stream",
     "text": [
      "1000\n",
      "2000\n",
      "3000\n",
      "4000\n",
      "5000\n",
      "6000\n",
      "7000\n",
      "8000\n",
      "9000\n",
      "10000\n",
      "11000\n",
      "12000\n",
      "13000\n",
      "14000\n",
      "15000\n",
      "16000\n",
      "17000\n",
      "18000\n",
      "19000\n",
      "20000\n",
      "21000\n",
      "22000\n",
      "23000\n",
      "24000\n",
      "25000\n",
      "26000\n",
      "27000\n",
      "28000\n",
      "29000\n",
      "30000\n",
      "31000\n",
      "32000\n",
      "33000\n",
      "34000\n",
      "35000\n",
      "36000\n",
      "37000\n",
      "38000\n",
      "39000\n",
      "40000\n",
      "41000\n",
      "42000\n",
      "43000\n",
      "44000\n",
      "45000\n",
      "46000\n",
      "47000\n",
      "48000\n",
      "49000\n",
      "50000\n",
      "51000\n",
      "52000\n",
      "53000\n",
      "54000\n",
      "55000\n",
      "56000\n",
      "57000\n",
      "58000\n",
      "59000\n",
      "60000\n",
      "61000\n",
      "62000\n",
      "63000\n",
      "64000\n",
      "65000\n",
      "66000\n",
      "67000\n",
      "68000\n",
      "69000\n",
      "70000\n",
      "71000\n",
      "72000\n",
      "73000\n",
      "74000\n",
      "75000\n",
      "76000\n",
      "77000\n",
      "78000\n",
      "79000\n",
      "80000\n",
      "81000\n",
      "82000\n",
      "83000\n",
      "84000\n",
      "85000\n",
      "86000\n",
      "87000\n",
      "88000\n",
      "89000\n",
      "90000\n",
      "91000\n",
      "92000\n",
      "93000\n",
      "94000\n",
      "95000\n",
      "96000\n",
      "97000\n",
      "98000\n",
      "99000\n",
      "100000\n",
      "101000\n",
      "102000\n",
      "103000\n",
      "104000\n",
      "105000\n",
      "106000\n",
      "107000\n",
      "108000\n",
      "109000\n",
      "110000\n",
      "111000\n",
      "112000\n",
      "113000\n",
      "114000\n",
      "115000\n",
      "116000\n",
      "117000\n",
      "118000\n",
      "119000\n",
      "120000\n",
      "121000\n",
      "122000\n",
      "123000\n",
      "124000\n",
      "125000\n",
      "126000\n",
      "127000\n",
      "128000\n",
      "129000\n",
      "130000\n",
      "131000\n",
      "132000\n",
      "133000\n",
      "134000\n",
      "135000\n",
      "136000\n",
      "137000\n",
      "138000\n",
      "139000\n",
      "140000\n",
      "141000\n",
      "142000\n",
      "143000\n",
      "144000\n",
      "145000\n",
      "146000\n",
      "147000\n",
      "148000\n",
      "149000\n",
      "150000\n",
      "151000\n",
      "152000\n",
      "153000\n",
      "154000\n",
      "155000\n",
      "156000\n",
      "157000\n",
      "158000\n",
      "159000\n",
      "160000\n",
      "161000\n",
      "162000\n",
      "163000\n",
      "164000\n",
      "165000\n",
      "166000\n",
      "167000\n",
      "168000\n",
      "169000\n",
      "170000\n",
      "171000\n",
      "172000\n",
      "173000\n",
      "174000\n",
      "175000\n",
      "176000\n",
      "177000\n",
      "178000\n",
      "179000\n",
      "180000\n",
      "181000\n",
      "182000\n",
      "183000\n",
      "184000\n",
      "185000\n",
      "186000\n",
      "187000\n",
      "188000\n",
      "189000\n",
      "190000\n",
      "191000\n",
      "192000\n",
      "193000\n",
      "194000\n",
      "195000\n",
      "196000\n",
      "197000\n",
      "198000\n",
      "199000\n",
      "200000\n",
      "201000\n",
      "202000\n",
      "203000\n",
      "204000\n",
      "205000\n",
      "206000\n",
      "207000\n",
      "208000\n",
      "209000\n",
      "210000\n",
      "211000\n",
      "212000\n",
      "213000\n",
      "214000\n",
      "215000\n",
      "216000\n",
      "217000\n",
      "218000\n",
      "219000\n",
      "220000\n",
      "221000\n",
      "222000\n",
      "223000\n",
      "224000\n",
      "225000\n",
      "226000\n",
      "227000\n",
      "228000\n",
      "229000\n",
      "230000\n",
      "231000\n",
      "232000\n",
      "233000\n",
      "234000\n",
      "235000\n",
      "236000\n",
      "237000\n",
      "238000\n",
      "239000\n",
      "240000\n",
      "241000\n",
      "242000\n",
      "243000\n",
      "244000\n",
      "245000\n",
      "246000\n",
      "247000\n",
      "248000\n",
      "249000\n"
     ]
    }
   ],
   "source": [
    "out_dict = {key1:{key2:list() for key2 in frexlist} for key1 in klist}\n",
    "full_length_list = []\n",
    "filtered_length_dict = {key1:{key2:list() for key2 in frexlist} for key1 in klist}\n",
    "\n",
    "pid=0\n",
    "for paper_id in range(len(corpus.papers)):\n",
    "    current_abstract = corpus.papers[paper_id].processed_abstract\n",
    "    temp_split_abs = current_abstract.split()\n",
    "    full_length_list.append(len(temp_split_abs))\n",
    "    \n",
    "    #generate output for every (k,frex) combo\n",
    "    for k in klist:\n",
    "        for frex in frexlist:\n",
    "            temp_refined_abs = [term for term in temp_split_abs if term in frex_space_dict[k][frex]]\n",
    "            temp_out_abs = ' '.join(temp_refined_abs)\n",
    "            out_dict[k][frex].append(temp_out_abs)\n",
    "            filtered_length_dict[k][frex].append(len(temp_refined_abs))\n",
    "            \n",
    "    pid=pid+1\n",
    "    if pid%1000==0:\n",
    "        print(pid)"
   ]
  },
  {
   "cell_type": "code",
   "execution_count": 63,
   "id": "634095aa",
   "metadata": {},
   "outputs": [],
   "source": [
    "for k in klist:\n",
    "    for frex in frexlist:\n",
    "        filename = \"data/word2vec_inputs/abstracts_k\"+str(k)+\"_frex\"+str(frex)+\".txt\"\n",
    "        f = open(filename, \"w\")\n",
    "        for abstr in out_dict[k][frex]:\n",
    "            f.write(abstr + \"\\n\")\n",
    "        f.close()"
   ]
  },
  {
   "cell_type": "code",
   "execution_count": 65,
   "id": "011099ce",
   "metadata": {},
   "outputs": [
    {
     "name": "stdout",
     "output_type": "stream",
     "text": [
      "retained after frex filtering for  20 0.25 :  20.793421048408813 %\n",
      "retained after frex filtering for  20 0.5 :  51.10261391780746 %\n",
      "retained after frex filtering for  20 0.75 :  86.38232059931083 %\n",
      "retained after frex filtering for  28 0.25 :  27.424655080309858 %\n",
      "retained after frex filtering for  28 0.5 :  61.66947869563481 %\n",
      "retained after frex filtering for  28 0.75 :  89.89607989643875 %\n",
      "retained after frex filtering for  30 0.25 :  36.11607402049927 %\n",
      "retained after frex filtering for  30 0.5 :  67.08194834949994 %\n",
      "retained after frex filtering for  30 0.75 :  90.36868748608694 %\n",
      "retained after frex filtering for  40 0.25 :  52.144283198109896 %\n",
      "retained after frex filtering for  40 0.5 :  84.50822266834757 %\n",
      "retained after frex filtering for  40 0.75 :  91.23928348548827 %\n",
      "retained after frex filtering for  50 0.25 :  64.16073116059724 %\n",
      "retained after frex filtering for  50 0.5 :  89.83704041706918 %\n",
      "retained after frex filtering for  50 0.75 :  91.5817801529203 %\n",
      "retained after frex filtering for  60 0.25 :  70.39803217295685 %\n",
      "retained after frex filtering for  60 0.5 :  91.36555491596442 %\n",
      "retained after frex filtering for  60 0.75 :  91.94532983889015 %\n"
     ]
    }
   ],
   "source": [
    "for k in klist:\n",
    "    for frex in frexlist:\n",
    "        print(\"retained after frex filtering for \",k,frex,\": \",\n",
    "              np.mean(filtered_length_dict[k][frex])/np.mean(full_length_list)*100,\"%\")"
   ]
  },
  {
   "cell_type": "code",
   "execution_count": null,
   "id": "3aeaa9f2",
   "metadata": {},
   "outputs": [],
   "source": []
  },
  {
   "cell_type": "code",
   "execution_count": null,
   "id": "55e4d554",
   "metadata": {},
   "outputs": [],
   "source": []
  },
  {
   "cell_type": "markdown",
   "id": "fc0fccea",
   "metadata": {},
   "source": [
    "# Draft"
   ]
  },
  {
   "cell_type": "code",
   "execution_count": 33,
   "id": "fe176278",
   "metadata": {},
   "outputs": [],
   "source": [
    "f = open(\"data/frexconcepts_k40_frex0.5.json\")\n",
    "frexconcepts_k40_frex50 = json.load(f)"
   ]
  },
  {
   "cell_type": "code",
   "execution_count": 34,
   "id": "448d2270",
   "metadata": {},
   "outputs": [
    {
     "data": {
      "text/plain": [
       "(40, 500)"
      ]
     },
     "execution_count": 34,
     "metadata": {},
     "output_type": "execute_result"
    }
   ],
   "source": [
    "len(frexconcepts_k40_frex50.keys()), len(frexconcepts_k40_frex50['0'])"
   ]
  },
  {
   "cell_type": "code",
   "execution_count": 35,
   "id": "51c199ff",
   "metadata": {},
   "outputs": [
    {
     "name": "stdout",
     "output_type": "stream",
     "text": [
      "Total concepts: 20000\n"
     ]
    }
   ],
   "source": [
    "print(\"Total concepts: \"+str(len(frexconcepts_k40_frex50.keys())* len(frexconcepts_k40_frex50['0'])))"
   ]
  },
  {
   "cell_type": "code",
   "execution_count": 41,
   "id": "4ef16d27",
   "metadata": {},
   "outputs": [],
   "source": [
    "frexspace = list(set([v for key,val in frexconcepts_k40_frex50.items() for v in val]))"
   ]
  },
  {
   "cell_type": "code",
   "execution_count": 42,
   "id": "b84a7e9d",
   "metadata": {},
   "outputs": [
    {
     "data": {
      "text/plain": [
       "19041"
      ]
     },
     "execution_count": 42,
     "metadata": {},
     "output_type": "execute_result"
    }
   ],
   "source": [
    "len(frexspace)"
   ]
  },
  {
   "cell_type": "code",
   "execution_count": 43,
   "id": "c22f4e82",
   "metadata": {},
   "outputs": [
    {
     "data": {
      "text/plain": [
       "['hartmann',\n",
       " 'tensor-product',\n",
       " 'oxygen-cent',\n",
       " 'cryocool',\n",
       " 'least-squar',\n",
       " 'τnl',\n",
       " 'exposit',\n",
       " 'epoxi',\n",
       " 'system’',\n",
       " 'cuauf']"
      ]
     },
     "execution_count": 43,
     "metadata": {},
     "output_type": "execute_result"
    }
   ],
   "source": [
    "frexspace[:10]"
   ]
  },
  {
   "cell_type": "code",
   "execution_count": 66,
   "id": "495f95f5",
   "metadata": {},
   "outputs": [
    {
     "data": {
      "text/plain": [
       "249281"
      ]
     },
     "execution_count": 66,
     "metadata": {},
     "output_type": "execute_result"
    }
   ],
   "source": [
    "len(corpus.papers)"
   ]
  },
  {
   "cell_type": "code",
   "execution_count": 67,
   "id": "c3390452",
   "metadata": {},
   "outputs": [
    {
     "data": {
      "text/plain": [
       "39"
      ]
     },
     "execution_count": 67,
     "metadata": {},
     "output_type": "execute_result"
    }
   ],
   "source": [
    "len(corpus.papers[0].processed_abstract.split())"
   ]
  },
  {
   "cell_type": "code",
   "execution_count": 68,
   "id": "3673832b",
   "metadata": {},
   "outputs": [
    {
     "name": "stdout",
     "output_type": "stream",
     "text": [
      "['extens', 'transit', 'state', 'theori', 'present', 'capabl', 'comput', 'quantit', 'diffus', 'adsorb', 'molecul', 'confin', 'system', 'nonzero', 'load', 'extens', 'tradit', 'transit', 'state', 'theori', 'yield', 'diffus', 'excel', 'agreement', 'obtain', 'convent', 'molecular', 'dynam', 'simul', 'molecular', 'dynam', 'calcul', 'limit', 'relat', 'fast', 'diffus', 'molecul', 'small', 'rigid', 'molecul', 'approach', 'extend', 'rang', 'access', 'time', 'scale', 'signific', 'beyond', 'current', 'avail', 'method', 'applic', 'system', 'contain', 'free', 'energi', 'barrier', 'type', 'guest', 'molecul']\n"
     ]
    }
   ],
   "source": [
    "split_abs = corpus.papers[id_].processed_abstract.split()\n",
    "print(split_abs)"
   ]
  },
  {
   "cell_type": "code",
   "execution_count": 69,
   "id": "2d033f75",
   "metadata": {},
   "outputs": [
    {
     "data": {
      "text/plain": [
       "'extens transit state theori present capabl comput quantit diffus adsorb molecul confin system load extens tradit transit state theori yield diffus excel agreement obtain convent molecular dynam simul molecular dynam calcul limit relat fast diffus molecul small rigid molecul approach extend rang access time scale signific beyond current avail method applic system contain free energi barrier type guest molecul'"
      ]
     },
     "execution_count": 69,
     "metadata": {},
     "output_type": "execute_result"
    }
   ],
   "source": [
    "refined_abs = [term for term in split_abs if term in frexspace]\n",
    "refined_abs2 = ' '.join(refined_abs)\n",
    "refined_abs2"
   ]
  },
  {
   "cell_type": "code",
   "execution_count": null,
   "id": "20b37cf4",
   "metadata": {},
   "outputs": [],
   "source": []
  }
 ],
 "metadata": {
  "kernelspec": {
   "display_name": "Python 3 (ipykernel)",
   "language": "python",
   "name": "python3"
  },
  "language_info": {
   "codemirror_mode": {
    "name": "ipython",
    "version": 3
   },
   "file_extension": ".py",
   "mimetype": "text/x-python",
   "name": "python",
   "nbconvert_exporter": "python",
   "pygments_lexer": "ipython3",
   "version": "3.9.7"
  }
 },
 "nbformat": 4,
 "nbformat_minor": 5
}
