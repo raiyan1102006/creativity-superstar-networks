{
 "cells": [
  {
   "cell_type": "code",
   "execution_count": 1,
   "id": "1bbfd83c",
   "metadata": {},
   "outputs": [],
   "source": [
    "import numpy as np\n",
    "import pandas as pd\n",
    "import matplotlib.pyplot as plt\n",
    "import glob, os\n",
    "import json\n",
    "from collections import defaultdict\n",
    "from datetime import datetime"
   ]
  },
  {
   "cell_type": "code",
   "execution_count": 2,
   "id": "06d1185f",
   "metadata": {},
   "outputs": [],
   "source": [
    "df = pd.read_csv(\"data/all_abstracts.csv\")"
   ]
  },
  {
   "cell_type": "code",
   "execution_count": 3,
   "id": "9b1e70a2",
   "metadata": {},
   "outputs": [
    {
     "data": {
      "text/html": [
       "<div>\n",
       "<style scoped>\n",
       "    .dataframe tbody tr th:only-of-type {\n",
       "        vertical-align: middle;\n",
       "    }\n",
       "\n",
       "    .dataframe tbody tr th {\n",
       "        vertical-align: top;\n",
       "    }\n",
       "\n",
       "    .dataframe thead th {\n",
       "        text-align: right;\n",
       "    }\n",
       "</style>\n",
       "<table border=\"1\" class=\"dataframe\">\n",
       "  <thead>\n",
       "    <tr style=\"text-align: right;\">\n",
       "      <th></th>\n",
       "      <th>Unnamed: 0</th>\n",
       "      <th>index</th>\n",
       "      <th>doi</th>\n",
       "      <th>abstract</th>\n",
       "      <th>citations</th>\n",
       "      <th>Q_doc</th>\n",
       "    </tr>\n",
       "  </thead>\n",
       "  <tbody>\n",
       "    <tr>\n",
       "      <th>0</th>\n",
       "      <td>0</td>\n",
       "      <td>0</td>\n",
       "      <td>10.1103/PhysRevE.51.5058</td>\n",
       "      <td>The spontaneous nucleation of individual micro...</td>\n",
       "      <td>8.0</td>\n",
       "      <td>20.000000</td>\n",
       "    </tr>\n",
       "    <tr>\n",
       "      <th>1</th>\n",
       "      <td>1</td>\n",
       "      <td>1</td>\n",
       "      <td>10.1103/PhysRevE.65.017102</td>\n",
       "      <td>It has been recognized for some time that a ne...</td>\n",
       "      <td>3.0</td>\n",
       "      <td>34.962036</td>\n",
       "    </tr>\n",
       "    <tr>\n",
       "      <th>2</th>\n",
       "      <td>2</td>\n",
       "      <td>2</td>\n",
       "      <td>10.1103/PhysRevB.100.035307</td>\n",
       "      <td>A tunneling system with a molecule between the...</td>\n",
       "      <td>1.0</td>\n",
       "      <td>30.970356</td>\n",
       "    </tr>\n",
       "    <tr>\n",
       "      <th>3</th>\n",
       "      <td>3</td>\n",
       "      <td>3</td>\n",
       "      <td>10.1103/PhysRevD.36.2327</td>\n",
       "      <td>A field theory constructed on a space with a m...</td>\n",
       "      <td>44.0</td>\n",
       "      <td>36.999539</td>\n",
       "    </tr>\n",
       "    <tr>\n",
       "      <th>4</th>\n",
       "      <td>4</td>\n",
       "      <td>4</td>\n",
       "      <td>10.1103/PhysRevB.22.1789</td>\n",
       "      <td>Magnetoacoustic dispersion and attenuation for...</td>\n",
       "      <td>1.0</td>\n",
       "      <td>23.000000</td>\n",
       "    </tr>\n",
       "  </tbody>\n",
       "</table>\n",
       "</div>"
      ],
      "text/plain": [
       "   Unnamed: 0  index                          doi  \\\n",
       "0           0      0     10.1103/PhysRevE.51.5058   \n",
       "1           1      1   10.1103/PhysRevE.65.017102   \n",
       "2           2      2  10.1103/PhysRevB.100.035307   \n",
       "3           3      3     10.1103/PhysRevD.36.2327   \n",
       "4           4      4     10.1103/PhysRevB.22.1789   \n",
       "\n",
       "                                            abstract  citations      Q_doc  \n",
       "0  The spontaneous nucleation of individual micro...        8.0  20.000000  \n",
       "1  It has been recognized for some time that a ne...        3.0  34.962036  \n",
       "2  A tunneling system with a molecule between the...        1.0  30.970356  \n",
       "3  A field theory constructed on a space with a m...       44.0  36.999539  \n",
       "4  Magnetoacoustic dispersion and attenuation for...        1.0  23.000000  "
      ]
     },
     "execution_count": 3,
     "metadata": {},
     "output_type": "execute_result"
    }
   ],
   "source": [
    "df.head()"
   ]
  },
  {
   "cell_type": "code",
   "execution_count": 4,
   "id": "30f9dbbf",
   "metadata": {},
   "outputs": [
    {
     "data": {
      "text/html": [
       "<div>\n",
       "<style scoped>\n",
       "    .dataframe tbody tr th:only-of-type {\n",
       "        vertical-align: middle;\n",
       "    }\n",
       "\n",
       "    .dataframe tbody tr th {\n",
       "        vertical-align: top;\n",
       "    }\n",
       "\n",
       "    .dataframe thead th {\n",
       "        text-align: right;\n",
       "    }\n",
       "</style>\n",
       "<table border=\"1\" class=\"dataframe\">\n",
       "  <thead>\n",
       "    <tr style=\"text-align: right;\">\n",
       "      <th></th>\n",
       "      <th>doi</th>\n",
       "      <th>abstract</th>\n",
       "    </tr>\n",
       "  </thead>\n",
       "  <tbody>\n",
       "    <tr>\n",
       "      <th>0</th>\n",
       "      <td>10.1103/PhysRevE.51.5058</td>\n",
       "      <td>The spontaneous nucleation of individual micro...</td>\n",
       "    </tr>\n",
       "    <tr>\n",
       "      <th>1</th>\n",
       "      <td>10.1103/PhysRevE.65.017102</td>\n",
       "      <td>It has been recognized for some time that a ne...</td>\n",
       "    </tr>\n",
       "    <tr>\n",
       "      <th>2</th>\n",
       "      <td>10.1103/PhysRevB.100.035307</td>\n",
       "      <td>A tunneling system with a molecule between the...</td>\n",
       "    </tr>\n",
       "    <tr>\n",
       "      <th>3</th>\n",
       "      <td>10.1103/PhysRevD.36.2327</td>\n",
       "      <td>A field theory constructed on a space with a m...</td>\n",
       "    </tr>\n",
       "    <tr>\n",
       "      <th>4</th>\n",
       "      <td>10.1103/PhysRevB.22.1789</td>\n",
       "      <td>Magnetoacoustic dispersion and attenuation for...</td>\n",
       "    </tr>\n",
       "  </tbody>\n",
       "</table>\n",
       "</div>"
      ],
      "text/plain": [
       "                           doi  \\\n",
       "0     10.1103/PhysRevE.51.5058   \n",
       "1   10.1103/PhysRevE.65.017102   \n",
       "2  10.1103/PhysRevB.100.035307   \n",
       "3     10.1103/PhysRevD.36.2327   \n",
       "4     10.1103/PhysRevB.22.1789   \n",
       "\n",
       "                                            abstract  \n",
       "0  The spontaneous nucleation of individual micro...  \n",
       "1  It has been recognized for some time that a ne...  \n",
       "2  A tunneling system with a molecule between the...  \n",
       "3  A field theory constructed on a space with a m...  \n",
       "4  Magnetoacoustic dispersion and attenuation for...  "
      ]
     },
     "execution_count": 4,
     "metadata": {},
     "output_type": "execute_result"
    }
   ],
   "source": [
    "df2 = df[['doi','abstract']]\n",
    "df2.head()"
   ]
  },
  {
   "cell_type": "code",
   "execution_count": 5,
   "id": "d7a443b1",
   "metadata": {},
   "outputs": [
    {
     "name": "stdout",
     "output_type": "stream",
     "text": [
      "<class 'pandas.core.frame.DataFrame'>\n",
      "RangeIndex: 250628 entries, 0 to 250627\n",
      "Data columns (total 2 columns):\n",
      " #   Column    Non-Null Count   Dtype \n",
      "---  ------    --------------   ----- \n",
      " 0   doi       250628 non-null  object\n",
      " 1   abstract  250628 non-null  object\n",
      "dtypes: object(2)\n",
      "memory usage: 3.8+ MB\n"
     ]
    }
   ],
   "source": [
    "df2.info()"
   ]
  },
  {
   "cell_type": "code",
   "execution_count": 6,
   "id": "8f8ca261",
   "metadata": {},
   "outputs": [
    {
     "data": {
      "text/plain": [
       "250628"
      ]
     },
     "execution_count": 6,
     "metadata": {},
     "output_type": "execute_result"
    }
   ],
   "source": [
    "doi_set = set(df2['doi'])\n",
    "len(doi_set)"
   ]
  },
  {
   "cell_type": "markdown",
   "id": "4bbe8149",
   "metadata": {},
   "source": [
    "# Export doi-abstract-year to csv"
   ]
  },
  {
   "cell_type": "code",
   "execution_count": 31,
   "id": "8bb9ce5e",
   "metadata": {},
   "outputs": [],
   "source": [
    "id_to_date_dict = defaultdict()\n",
    "for filename in glob.iglob('data/aps-dataset-metadata-2020/**', recursive=True):\n",
    "    if os.path.isfile(filename): # filter dirs\n",
    "        data = json.load(open(filename))\n",
    "        if data['id'] in doi_set: # we have your abstract\n",
    "            processed_date = datetime.strptime(data['date'], \"%Y-%m-%d\")\n",
    "            id_to_date_dict[data['id']] = processed_date.year"
   ]
  },
  {
   "cell_type": "code",
   "execution_count": 32,
   "id": "9de0b299",
   "metadata": {},
   "outputs": [
    {
     "data": {
      "text/plain": [
       "249311"
      ]
     },
     "execution_count": 32,
     "metadata": {},
     "output_type": "execute_result"
    }
   ],
   "source": [
    "len(id_to_date_dict)"
   ]
  },
  {
   "cell_type": "code",
   "execution_count": 39,
   "id": "a00a15c5",
   "metadata": {},
   "outputs": [
    {
     "data": {
      "text/html": [
       "<div>\n",
       "<style scoped>\n",
       "    .dataframe tbody tr th:only-of-type {\n",
       "        vertical-align: middle;\n",
       "    }\n",
       "\n",
       "    .dataframe tbody tr th {\n",
       "        vertical-align: top;\n",
       "    }\n",
       "\n",
       "    .dataframe thead th {\n",
       "        text-align: right;\n",
       "    }\n",
       "</style>\n",
       "<table border=\"1\" class=\"dataframe\">\n",
       "  <thead>\n",
       "    <tr style=\"text-align: right;\">\n",
       "      <th></th>\n",
       "      <th>doi</th>\n",
       "      <th>abstract</th>\n",
       "      <th>year</th>\n",
       "    </tr>\n",
       "  </thead>\n",
       "  <tbody>\n",
       "    <tr>\n",
       "      <th>0</th>\n",
       "      <td>10.1103/PhysRevE.51.5058</td>\n",
       "      <td>The spontaneous nucleation of individual micro...</td>\n",
       "      <td>1995</td>\n",
       "    </tr>\n",
       "    <tr>\n",
       "      <th>1</th>\n",
       "      <td>10.1103/PhysRevE.65.017102</td>\n",
       "      <td>It has been recognized for some time that a ne...</td>\n",
       "      <td>2001</td>\n",
       "    </tr>\n",
       "    <tr>\n",
       "      <th>2</th>\n",
       "      <td>10.1103/PhysRevB.100.035307</td>\n",
       "      <td>A tunneling system with a molecule between the...</td>\n",
       "      <td>2019</td>\n",
       "    </tr>\n",
       "    <tr>\n",
       "      <th>3</th>\n",
       "      <td>10.1103/PhysRevD.36.2327</td>\n",
       "      <td>A field theory constructed on a space with a m...</td>\n",
       "      <td>1987</td>\n",
       "    </tr>\n",
       "    <tr>\n",
       "      <th>4</th>\n",
       "      <td>10.1103/PhysRevB.22.1789</td>\n",
       "      <td>Magnetoacoustic dispersion and attenuation for...</td>\n",
       "      <td>1980</td>\n",
       "    </tr>\n",
       "  </tbody>\n",
       "</table>\n",
       "</div>"
      ],
      "text/plain": [
       "                           doi  \\\n",
       "0     10.1103/PhysRevE.51.5058   \n",
       "1   10.1103/PhysRevE.65.017102   \n",
       "2  10.1103/PhysRevB.100.035307   \n",
       "3     10.1103/PhysRevD.36.2327   \n",
       "4     10.1103/PhysRevB.22.1789   \n",
       "\n",
       "                                            abstract  year  \n",
       "0  The spontaneous nucleation of individual micro...  1995  \n",
       "1  It has been recognized for some time that a ne...  2001  \n",
       "2  A tunneling system with a molecule between the...  2019  \n",
       "3  A field theory constructed on a space with a m...  1987  \n",
       "4  Magnetoacoustic dispersion and attenuation for...  1980  "
      ]
     },
     "execution_count": 39,
     "metadata": {},
     "output_type": "execute_result"
    }
   ],
   "source": [
    "doi_list = []\n",
    "abstract_list = []\n",
    "year_list = []\n",
    "for index,row in df2.iterrows():\n",
    "    if row['doi'] in id_to_date_dict.keys(): # take only the papers we have years info for\n",
    "        doi_list.append(row['doi'])\n",
    "        abstract_list.append(row['abstract'])\n",
    "        year_list.append(id_to_date_dict[row['doi']])\n",
    "\n",
    "df3 = pd.DataFrame(list(zip(doi_list, abstract_list,year_list)), columns =['doi', 'abstract','year']) \n",
    "df3.head()"
   ]
  },
  {
   "cell_type": "code",
   "execution_count": 40,
   "id": "9326f304",
   "metadata": {},
   "outputs": [
    {
     "name": "stdout",
     "output_type": "stream",
     "text": [
      "<class 'pandas.core.frame.DataFrame'>\n",
      "RangeIndex: 249311 entries, 0 to 249310\n",
      "Data columns (total 3 columns):\n",
      " #   Column    Non-Null Count   Dtype \n",
      "---  ------    --------------   ----- \n",
      " 0   doi       249311 non-null  object\n",
      " 1   abstract  249311 non-null  object\n",
      " 2   year      249311 non-null  int64 \n",
      "dtypes: int64(1), object(2)\n",
      "memory usage: 5.7+ MB\n"
     ]
    }
   ],
   "source": [
    "df3.info()"
   ]
  },
  {
   "cell_type": "code",
   "execution_count": 41,
   "id": "db74edf3",
   "metadata": {},
   "outputs": [],
   "source": [
    "# df3.to_csv(\"data/all_abstracts_year.csv\")"
   ]
  },
  {
   "cell_type": "code",
   "execution_count": 48,
   "id": "315b08d6",
   "metadata": {},
   "outputs": [],
   "source": [
    "years = sorted(set(df3['year']))"
   ]
  },
  {
   "cell_type": "code",
   "execution_count": 55,
   "id": "aa74e91f",
   "metadata": {},
   "outputs": [
    {
     "data": {
      "text/plain": [
       "{1919: 14,\n",
       " 1920: 23,\n",
       " 1921: 18,\n",
       " 1922: 18,\n",
       " 1923: 40,\n",
       " 1924: 48,\n",
       " 1925: 61,\n",
       " 1926: 64,\n",
       " 1927: 63,\n",
       " 1928: 80,\n",
       " 1929: 108,\n",
       " 1930: 126,\n",
       " 1931: 149,\n",
       " 1932: 116,\n",
       " 1933: 90,\n",
       " 1934: 118,\n",
       " 1935: 115,\n",
       " 1936: 115,\n",
       " 1937: 133,\n",
       " 1938: 114,\n",
       " 1939: 119,\n",
       " 1940: 113,\n",
       " 1941: 104,\n",
       " 1942: 57,\n",
       " 1943: 35,\n",
       " 1944: 27,\n",
       " 1945: 34,\n",
       " 1946: 71,\n",
       " 1947: 86,\n",
       " 1948: 167,\n",
       " 1949: 204,\n",
       " 1950: 199,\n",
       " 1951: 249,\n",
       " 1952: 245,\n",
       " 1953: 346,\n",
       " 1954: 433,\n",
       " 1955: 446,\n",
       " 1956: 494,\n",
       " 1957: 453,\n",
       " 1958: 435,\n",
       " 1959: 432,\n",
       " 1960: 452,\n",
       " 1961: 499,\n",
       " 1962: 575,\n",
       " 1963: 607,\n",
       " 1964: 723,\n",
       " 1965: 778,\n",
       " 1966: 974,\n",
       " 1967: 1233,\n",
       " 1968: 1499,\n",
       " 1969: 1627,\n",
       " 1970: 1640,\n",
       " 1971: 1704,\n",
       " 1972: 1708,\n",
       " 1973: 1852,\n",
       " 1974: 1693,\n",
       " 1975: 1764,\n",
       " 1976: 1793,\n",
       " 1977: 1763,\n",
       " 1978: 1803,\n",
       " 1979: 1750,\n",
       " 1980: 1854,\n",
       " 1981: 1958,\n",
       " 1982: 2085,\n",
       " 1983: 2189,\n",
       " 1984: 2238,\n",
       " 1985: 2572,\n",
       " 1986: 2803,\n",
       " 1987: 3048,\n",
       " 1988: 3218,\n",
       " 1989: 3461,\n",
       " 1990: 3411,\n",
       " 1991: 3726,\n",
       " 1992: 3947,\n",
       " 1993: 4494,\n",
       " 1994: 4548,\n",
       " 1995: 4834,\n",
       " 1996: 4835,\n",
       " 1997: 4947,\n",
       " 1998: 5253,\n",
       " 1999: 5276,\n",
       " 2000: 5713,\n",
       " 2001: 5751,\n",
       " 2002: 5959,\n",
       " 2003: 5675,\n",
       " 2004: 6248,\n",
       " 2005: 6934,\n",
       " 2006: 6758,\n",
       " 2007: 6775,\n",
       " 2008: 7390,\n",
       " 2009: 7273,\n",
       " 2010: 7291,\n",
       " 2011: 7396,\n",
       " 2012: 7434,\n",
       " 2013: 7207,\n",
       " 2014: 6939,\n",
       " 2015: 6782,\n",
       " 2016: 7010,\n",
       " 2017: 7323,\n",
       " 2018: 7626,\n",
       " 2019: 7781,\n",
       " 2020: 8550}"
      ]
     },
     "execution_count": 55,
     "metadata": {},
     "output_type": "execute_result"
    }
   ],
   "source": [
    "counts_by_year = df3.groupby(['year']).size().to_dict()\n",
    "counts_by_year"
   ]
  },
  {
   "cell_type": "code",
   "execution_count": 58,
   "id": "51615afe",
   "metadata": {},
   "outputs": [],
   "source": [
    "cumulative_by_year = defaultdict()\n",
    "temp = 0\n",
    "for y in years:\n",
    "    cumulative_by_year[y] = counts_by_year[y]+temp\n",
    "    temp = cumulative_by_year[y]"
   ]
  },
  {
   "cell_type": "code",
   "execution_count": 60,
   "id": "f345353a",
   "metadata": {},
   "outputs": [
    {
     "data": {
      "text/plain": [
       "defaultdict(None,\n",
       "            {1919: 14,\n",
       "             1920: 37,\n",
       "             1921: 55,\n",
       "             1922: 73,\n",
       "             1923: 113,\n",
       "             1924: 161,\n",
       "             1925: 222,\n",
       "             1926: 286,\n",
       "             1927: 349,\n",
       "             1928: 429,\n",
       "             1929: 537,\n",
       "             1930: 663,\n",
       "             1931: 812,\n",
       "             1932: 928,\n",
       "             1933: 1018,\n",
       "             1934: 1136,\n",
       "             1935: 1251,\n",
       "             1936: 1366,\n",
       "             1937: 1499,\n",
       "             1938: 1613,\n",
       "             1939: 1732,\n",
       "             1940: 1845,\n",
       "             1941: 1949,\n",
       "             1942: 2006,\n",
       "             1943: 2041,\n",
       "             1944: 2068,\n",
       "             1945: 2102,\n",
       "             1946: 2173,\n",
       "             1947: 2259,\n",
       "             1948: 2426,\n",
       "             1949: 2630,\n",
       "             1950: 2829,\n",
       "             1951: 3078,\n",
       "             1952: 3323,\n",
       "             1953: 3669,\n",
       "             1954: 4102,\n",
       "             1955: 4548,\n",
       "             1956: 5042,\n",
       "             1957: 5495,\n",
       "             1958: 5930,\n",
       "             1959: 6362,\n",
       "             1960: 6814,\n",
       "             1961: 7313,\n",
       "             1962: 7888,\n",
       "             1963: 8495,\n",
       "             1964: 9218,\n",
       "             1965: 9996,\n",
       "             1966: 10970,\n",
       "             1967: 12203,\n",
       "             1968: 13702,\n",
       "             1969: 15329,\n",
       "             1970: 16969,\n",
       "             1971: 18673,\n",
       "             1972: 20381,\n",
       "             1973: 22233,\n",
       "             1974: 23926,\n",
       "             1975: 25690,\n",
       "             1976: 27483,\n",
       "             1977: 29246,\n",
       "             1978: 31049,\n",
       "             1979: 32799,\n",
       "             1980: 34653,\n",
       "             1981: 36611,\n",
       "             1982: 38696,\n",
       "             1983: 40885,\n",
       "             1984: 43123,\n",
       "             1985: 45695,\n",
       "             1986: 48498,\n",
       "             1987: 51546,\n",
       "             1988: 54764,\n",
       "             1989: 58225,\n",
       "             1990: 61636,\n",
       "             1991: 65362,\n",
       "             1992: 69309,\n",
       "             1993: 73803,\n",
       "             1994: 78351,\n",
       "             1995: 83185,\n",
       "             1996: 88020,\n",
       "             1997: 92967,\n",
       "             1998: 98220,\n",
       "             1999: 103496,\n",
       "             2000: 109209,\n",
       "             2001: 114960,\n",
       "             2002: 120919,\n",
       "             2003: 126594,\n",
       "             2004: 132842,\n",
       "             2005: 139776,\n",
       "             2006: 146534,\n",
       "             2007: 153309,\n",
       "             2008: 160699,\n",
       "             2009: 167972,\n",
       "             2010: 175263,\n",
       "             2011: 182659,\n",
       "             2012: 190093,\n",
       "             2013: 197300,\n",
       "             2014: 204239,\n",
       "             2015: 211021,\n",
       "             2016: 218031,\n",
       "             2017: 225354,\n",
       "             2018: 232980,\n",
       "             2019: 240761,\n",
       "             2020: 249311})"
      ]
     },
     "execution_count": 60,
     "metadata": {},
     "output_type": "execute_result"
    }
   ],
   "source": [
    "cumulative_by_year"
   ]
  },
  {
   "cell_type": "code",
   "execution_count": 54,
   "id": "e5707802",
   "metadata": {},
   "outputs": [
    {
     "data": {
      "image/png": "[encoded data removed]",
      "text/plain": [
       "<Figure size 432x288 with 1 Axes>"
      ]
     },
     "metadata": {
      "needs_background": "light"
     },
     "output_type": "display_data"
    }
   ],
   "source": [
    "plt.plot(years,[counts_by_year[i] for i in years])\n",
    "plt.xlabel(\"Year\")\n",
    "plt.ylabel(\"Number of papers per year\")\n",
    "plt.savefig(\"paperperyear.jpg\",dpi=300)"
   ]
  },
  {
   "cell_type": "code",
   "execution_count": 59,
   "id": "af403fcf",
   "metadata": {},
   "outputs": [
    {
     "data": {
      "image/png": "[encoded data removed]",
      "text/plain": [
       "<Figure size 432x288 with 1 Axes>"
      ]
     },
     "metadata": {
      "needs_background": "light"
     },
     "output_type": "display_data"
    }
   ],
   "source": [
    "plt.plot(years,[cumulative_by_year[i] for i in years])\n",
    "plt.xlabel(\"Year\")\n",
    "plt.ylabel(\"Cumulative number of papers\")\n",
    "plt.savefig(\"cumpaperperyear.jpg\",dpi=300)"
   ]
  },
  {
   "cell_type": "markdown",
   "id": "cae8b587",
   "metadata": {},
   "source": [
    "# Export doi-abstract-date to csv"
   ]
  },
  {
   "cell_type": "code",
   "execution_count": 7,
   "id": "a486c4ff",
   "metadata": {},
   "outputs": [],
   "source": [
    "id_to_fulldate_dict = defaultdict()\n",
    "for filename in glob.iglob('data/aps-dataset-metadata-2020/**', recursive=True):\n",
    "    if os.path.isfile(filename): # filter dirs\n",
    "        data = json.load(open(filename))\n",
    "        if data['id'] in doi_set: # we have your abstract\n",
    "            id_to_fulldate_dict[data['id']] = data['date']"
   ]
  },
  {
   "cell_type": "code",
   "execution_count": 8,
   "id": "58664b12",
   "metadata": {},
   "outputs": [
    {
     "data": {
      "text/html": [
       "<div>\n",
       "<style scoped>\n",
       "    .dataframe tbody tr th:only-of-type {\n",
       "        vertical-align: middle;\n",
       "    }\n",
       "\n",
       "    .dataframe tbody tr th {\n",
       "        vertical-align: top;\n",
       "    }\n",
       "\n",
       "    .dataframe thead th {\n",
       "        text-align: right;\n",
       "    }\n",
       "</style>\n",
       "<table border=\"1\" class=\"dataframe\">\n",
       "  <thead>\n",
       "    <tr style=\"text-align: right;\">\n",
       "      <th></th>\n",
       "      <th>doi</th>\n",
       "      <th>abstract</th>\n",
       "      <th>date</th>\n",
       "    </tr>\n",
       "  </thead>\n",
       "  <tbody>\n",
       "    <tr>\n",
       "      <th>0</th>\n",
       "      <td>10.1103/PhysRevE.51.5058</td>\n",
       "      <td>The spontaneous nucleation of individual micro...</td>\n",
       "      <td>1995-05-01</td>\n",
       "    </tr>\n",
       "    <tr>\n",
       "      <th>1</th>\n",
       "      <td>10.1103/PhysRevE.65.017102</td>\n",
       "      <td>It has been recognized for some time that a ne...</td>\n",
       "      <td>2001-12-17</td>\n",
       "    </tr>\n",
       "    <tr>\n",
       "      <th>2</th>\n",
       "      <td>10.1103/PhysRevB.100.035307</td>\n",
       "      <td>A tunneling system with a molecule between the...</td>\n",
       "      <td>2019-07-16</td>\n",
       "    </tr>\n",
       "    <tr>\n",
       "      <th>3</th>\n",
       "      <td>10.1103/PhysRevD.36.2327</td>\n",
       "      <td>A field theory constructed on a space with a m...</td>\n",
       "      <td>1987-10-15</td>\n",
       "    </tr>\n",
       "    <tr>\n",
       "      <th>4</th>\n",
       "      <td>10.1103/PhysRevB.22.1789</td>\n",
       "      <td>Magnetoacoustic dispersion and attenuation for...</td>\n",
       "      <td>1980-08-15</td>\n",
       "    </tr>\n",
       "  </tbody>\n",
       "</table>\n",
       "</div>"
      ],
      "text/plain": [
       "                           doi  \\\n",
       "0     10.1103/PhysRevE.51.5058   \n",
       "1   10.1103/PhysRevE.65.017102   \n",
       "2  10.1103/PhysRevB.100.035307   \n",
       "3     10.1103/PhysRevD.36.2327   \n",
       "4     10.1103/PhysRevB.22.1789   \n",
       "\n",
       "                                            abstract        date  \n",
       "0  The spontaneous nucleation of individual micro...  1995-05-01  \n",
       "1  It has been recognized for some time that a ne...  2001-12-17  \n",
       "2  A tunneling system with a molecule between the...  2019-07-16  \n",
       "3  A field theory constructed on a space with a m...  1987-10-15  \n",
       "4  Magnetoacoustic dispersion and attenuation for...  1980-08-15  "
      ]
     },
     "execution_count": 8,
     "metadata": {},
     "output_type": "execute_result"
    }
   ],
   "source": [
    "doi_list = []\n",
    "abstract_list = []\n",
    "date_list = []\n",
    "for index,row in df2.iterrows():\n",
    "    if row['doi'] in id_to_fulldate_dict.keys(): # take only the papers we have years info for\n",
    "        doi_list.append(row['doi'])\n",
    "        abstract_list.append(row['abstract'])\n",
    "        date_list.append(id_to_fulldate_dict[row['doi']])\n",
    "\n",
    "df4 = pd.DataFrame(list(zip(doi_list, abstract_list,date_list)), columns =['doi', 'abstract','date']) \n",
    "df4.head()"
   ]
  },
  {
   "cell_type": "code",
   "execution_count": 9,
   "id": "03dfa0db",
   "metadata": {},
   "outputs": [
    {
     "data": {
      "text/html": [
       "<div>\n",
       "<style scoped>\n",
       "    .dataframe tbody tr th:only-of-type {\n",
       "        vertical-align: middle;\n",
       "    }\n",
       "\n",
       "    .dataframe tbody tr th {\n",
       "        vertical-align: top;\n",
       "    }\n",
       "\n",
       "    .dataframe thead th {\n",
       "        text-align: right;\n",
       "    }\n",
       "</style>\n",
       "<table border=\"1\" class=\"dataframe\">\n",
       "  <thead>\n",
       "    <tr style=\"text-align: right;\">\n",
       "      <th></th>\n",
       "      <th>doi</th>\n",
       "      <th>abstract</th>\n",
       "      <th>date</th>\n",
       "    </tr>\n",
       "  </thead>\n",
       "  <tbody>\n",
       "    <tr>\n",
       "      <th>152044</th>\n",
       "      <td>10.1103/PhysRev.13.272</td>\n",
       "      <td>Synopsis. A device is described which makes it...</td>\n",
       "      <td>1919-04-01</td>\n",
       "    </tr>\n",
       "    <tr>\n",
       "      <th>189173</th>\n",
       "      <td>10.1103/PhysRev.13.337</td>\n",
       "      <td>Synopsis.—A series of experiments was performe...</td>\n",
       "      <td>1919-05-01</td>\n",
       "    </tr>\n",
       "    <tr>\n",
       "      <th>211565</th>\n",
       "      <td>10.1103/PhysRev.13.373</td>\n",
       "      <td>Synopsis.—This paper offers an explanation of ...</td>\n",
       "      <td>1919-06-01</td>\n",
       "    </tr>\n",
       "    <tr>\n",
       "      <th>54165</th>\n",
       "      <td>10.1103/PhysRev.13.434</td>\n",
       "      <td>Synopsis.—The investigation of high vacua has ...</td>\n",
       "      <td>1919-06-01</td>\n",
       "    </tr>\n",
       "    <tr>\n",
       "      <th>220674</th>\n",
       "      <td>10.1103/PhysRev.14.67</td>\n",
       "      <td>Synopsis.—The object has been to measure both ...</td>\n",
       "      <td>1919-07-01</td>\n",
       "    </tr>\n",
       "  </tbody>\n",
       "</table>\n",
       "</div>"
      ],
      "text/plain": [
       "                           doi  \\\n",
       "152044  10.1103/PhysRev.13.272   \n",
       "189173  10.1103/PhysRev.13.337   \n",
       "211565  10.1103/PhysRev.13.373   \n",
       "54165   10.1103/PhysRev.13.434   \n",
       "220674   10.1103/PhysRev.14.67   \n",
       "\n",
       "                                                 abstract        date  \n",
       "152044  Synopsis. A device is described which makes it...  1919-04-01  \n",
       "189173  Synopsis.—A series of experiments was performe...  1919-05-01  \n",
       "211565  Synopsis.—This paper offers an explanation of ...  1919-06-01  \n",
       "54165   Synopsis.—The investigation of high vacua has ...  1919-06-01  \n",
       "220674  Synopsis.—The object has been to measure both ...  1919-07-01  "
      ]
     },
     "execution_count": 9,
     "metadata": {},
     "output_type": "execute_result"
    }
   ],
   "source": [
    "df4 = df4.sort_values(by='date',ascending=True)\n",
    "df4.head()"
   ]
  },
  {
   "cell_type": "code",
   "execution_count": 10,
   "id": "d4981eb3",
   "metadata": {},
   "outputs": [
    {
     "data": {
      "text/html": [
       "<div>\n",
       "<style scoped>\n",
       "    .dataframe tbody tr th:only-of-type {\n",
       "        vertical-align: middle;\n",
       "    }\n",
       "\n",
       "    .dataframe tbody tr th {\n",
       "        vertical-align: top;\n",
       "    }\n",
       "\n",
       "    .dataframe thead th {\n",
       "        text-align: right;\n",
       "    }\n",
       "</style>\n",
       "<table border=\"1\" class=\"dataframe\">\n",
       "  <thead>\n",
       "    <tr style=\"text-align: right;\">\n",
       "      <th></th>\n",
       "      <th>doi</th>\n",
       "      <th>abstract</th>\n",
       "      <th>date</th>\n",
       "    </tr>\n",
       "  </thead>\n",
       "  <tbody>\n",
       "    <tr>\n",
       "      <th>197505</th>\n",
       "      <td>10.1103/PhysRevD.102.116023</td>\n",
       "      <td>We investigate how to include bound states in ...</td>\n",
       "      <td>2020-12-31</td>\n",
       "    </tr>\n",
       "    <tr>\n",
       "      <th>204996</th>\n",
       "      <td>10.1103/PhysRevC.102.064913</td>\n",
       "      <td>We use the microscopic Giessen Boltzmann-Uehli...</td>\n",
       "      <td>2020-12-31</td>\n",
       "    </tr>\n",
       "    <tr>\n",
       "      <th>136314</th>\n",
       "      <td>10.1103/PhysRevAccelBeams.23.123101</td>\n",
       "      <td>In order to minimize the surface resistance in...</td>\n",
       "      <td>2020-12-31</td>\n",
       "    </tr>\n",
       "    <tr>\n",
       "      <th>74599</th>\n",
       "      <td>10.1103/PhysRevLett.125.263606</td>\n",
       "      <td>We present a direct mapping between the quantu...</td>\n",
       "      <td>2020-12-31</td>\n",
       "    </tr>\n",
       "    <tr>\n",
       "      <th>117529</th>\n",
       "      <td>10.1103/PhysRevD.102.124078</td>\n",
       "      <td>In this paper we study the dynamics of neutral...</td>\n",
       "      <td>2020-12-31</td>\n",
       "    </tr>\n",
       "  </tbody>\n",
       "</table>\n",
       "</div>"
      ],
      "text/plain": [
       "                                        doi  \\\n",
       "197505          10.1103/PhysRevD.102.116023   \n",
       "204996          10.1103/PhysRevC.102.064913   \n",
       "136314  10.1103/PhysRevAccelBeams.23.123101   \n",
       "74599        10.1103/PhysRevLett.125.263606   \n",
       "117529          10.1103/PhysRevD.102.124078   \n",
       "\n",
       "                                                 abstract        date  \n",
       "197505  We investigate how to include bound states in ...  2020-12-31  \n",
       "204996  We use the microscopic Giessen Boltzmann-Uehli...  2020-12-31  \n",
       "136314  In order to minimize the surface resistance in...  2020-12-31  \n",
       "74599   We present a direct mapping between the quantu...  2020-12-31  \n",
       "117529  In this paper we study the dynamics of neutral...  2020-12-31  "
      ]
     },
     "execution_count": 10,
     "metadata": {},
     "output_type": "execute_result"
    }
   ],
   "source": [
    "df4.tail()"
   ]
  },
  {
   "cell_type": "code",
   "execution_count": 11,
   "id": "6c61f50d",
   "metadata": {},
   "outputs": [],
   "source": [
    "df4.to_csv(\"data/all_abstracts_date.csv\")"
   ]
  },
  {
   "cell_type": "code",
   "execution_count": 12,
   "id": "0f3eb018",
   "metadata": {},
   "outputs": [
    {
     "name": "stdout",
     "output_type": "stream",
     "text": [
      "<class 'pandas.core.frame.DataFrame'>\n",
      "Int64Index: 249311 entries, 152044 to 117529\n",
      "Data columns (total 3 columns):\n",
      " #   Column    Non-Null Count   Dtype \n",
      "---  ------    --------------   ----- \n",
      " 0   doi       249311 non-null  object\n",
      " 1   abstract  249311 non-null  object\n",
      " 2   date      249311 non-null  object\n",
      "dtypes: object(3)\n",
      "memory usage: 7.6+ MB\n"
     ]
    }
   ],
   "source": [
    "df4.info()"
   ]
  },
  {
   "cell_type": "code",
   "execution_count": null,
   "id": "b66bbb0d",
   "metadata": {},
   "outputs": [],
   "source": []
  }
 ],
 "metadata": {
  "kernelspec": {
   "display_name": "Python 3 (ipykernel)",
   "language": "python",
   "name": "python3"
  },
  "language_info": {
   "codemirror_mode": {
    "name": "ipython",
    "version": 3
   },
   "file_extension": ".py",
   "mimetype": "text/x-python",
   "name": "python",
   "nbconvert_exporter": "python",
   "pygments_lexer": "ipython3",
   "version": "3.9.7"
  }
 },
 "nbformat": 4,
 "nbformat_minor": 5
}
