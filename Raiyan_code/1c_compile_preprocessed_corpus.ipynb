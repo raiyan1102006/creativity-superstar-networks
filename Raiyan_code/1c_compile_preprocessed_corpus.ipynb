{
 "cells": [
  {
   "cell_type": "code",
   "execution_count": 1,
   "id": "dfbf2259",
   "metadata": {},
   "outputs": [],
   "source": [
    "import numpy as np\n",
    "import pandas as pd \n",
    "import json\n",
    "from collections import defaultdict\n",
    "import copy\n",
    "import pickle "
   ]
  },
  {
   "cell_type": "markdown",
   "id": "036285a2",
   "metadata": {},
   "source": [
    "# Load data"
   ]
  },
  {
   "cell_type": "code",
   "execution_count": 2,
   "id": "99d8d6f5",
   "metadata": {},
   "outputs": [],
   "source": [
    "f = open(\"data/obj_all_abstracts_year.json\")\n",
    "data = json.load(f)"
   ]
  },
  {
   "cell_type": "code",
   "execution_count": 3,
   "id": "37876b52",
   "metadata": {},
   "outputs": [],
   "source": [
    "f2 = open(\"data/processed_abstracts.json\")\n",
    "abstracts_list = json.load(f2)"
   ]
  },
  {
   "cell_type": "markdown",
   "id": "7886e16c",
   "metadata": {},
   "source": [
    "# Streamline data "
   ]
  },
  {
   "cell_type": "code",
   "execution_count": 4,
   "id": "adc877dd",
   "metadata": {},
   "outputs": [],
   "source": [
    "# these are the ids in processed$docs.removed and out$docs.removed during preproecessing in R\n",
    "docs_removed = [4920,10229,16848,17604,24092,68898,104301,108465,109275,118546,118907,128414,132047,135300,\n",
    "                157901,159166,159813,170490,184016,191411,195803,203451,204141,214446,221736,223792,241881,\n",
    "                246810,88613,126377] \n",
    "\n",
    "updated_abstracts_list = []\n",
    "for idx,abstract in enumerate(abstracts_list):\n",
    "    if idx+1 not in docs_removed:\n",
    "        updated_abstracts_list.append(abstract)"
   ]
  },
  {
   "cell_type": "code",
   "execution_count": 6,
   "id": "e45355be",
   "metadata": {},
   "outputs": [],
   "source": [
    "# vocab_id to actual word mapping\n",
    "id_to_word = defaultdict()\n",
    "word_to_id = defaultdict()\n",
    "for idx,word in enumerate(data['vocab']):\n",
    "    id_to_word[idx] = word\n",
    "    word_to_id[word] = idx"
   ]
  },
  {
   "cell_type": "code",
   "execution_count": 7,
   "id": "cd26228e",
   "metadata": {},
   "outputs": [],
   "source": [
    "doc_info_dict_list = [] \n",
    "\n",
    "doc_id = 0\n",
    "for doc_id_str, doc_list in data['documents'].items():\n",
    "    # get word count distribution\n",
    "    temp_word_count_dict = defaultdict()\n",
    "    for id_,count_ in zip(doc_list[0],doc_list[1]):\n",
    "        temp_word_count_dict[id_to_word[id_-1]]=count_ # -1 to compensate for R being 1-indexed\n",
    "\n",
    "    temp_info_dict = defaultdict()\n",
    "    temp_info_dict['abstract_word_distr'] = copy.deepcopy(temp_word_count_dict)\n",
    "    \n",
    "    # get updated abstract\n",
    "    temp_info_dict['updated_abstract'] = updated_abstracts_list[doc_id]\n",
    "    \n",
    "    # get other doc info\n",
    "    temp_info_dict['full_abstract'] = data['meta'][doc_id]['abstract']\n",
    "    temp_info_dict['doi'] = data['meta'][doc_id]['doi']\n",
    "    temp_info_dict['year'] = data['meta'][doc_id]['year']\n",
    "    \n",
    "    doc_info_dict_list.append(temp_info_dict)\n",
    "    \n",
    "    doc_id +=1\n"
   ]
  },
  {
   "cell_type": "markdown",
   "id": "76a4bab3",
   "metadata": {},
   "source": [
    "# Collect data in a class object"
   ]
  },
  {
   "cell_type": "code",
   "execution_count": 9,
   "id": "db56c221",
   "metadata": {},
   "outputs": [],
   "source": [
    "class Paper(object):\n",
    "    def __init__(self,\n",
    "                 doi,\n",
    "                 authors,\n",
    "                 year,\n",
    "                 full_abstract,\n",
    "                 processed_abstract,\n",
    "                 abstract_word_distr):\n",
    "        \n",
    "        self.doi = doi\n",
    "        self.authors = authors\n",
    "        self.year = year\n",
    "        self.full_abstract = full_abstract\n",
    "        self.processed_abstract = processed_abstract\n",
    "        self.abstract_word_distr = abstract_word_distr"
   ]
  },
  {
   "cell_type": "code",
   "execution_count": 10,
   "id": "0b49823a",
   "metadata": {},
   "outputs": [],
   "source": [
    "class APSCorpus(object):\n",
    "    def __init__(self,\n",
    "                 vocab,\n",
    "                 papers_info_dict_list,\n",
    "                 process = True):\n",
    "        \n",
    "        self.vocab = vocab\n",
    "        self.id_to_word = defaultdict()\n",
    "        self.word_to_id = defaultdict()\n",
    "        self.papers = []\n",
    "        self.doi_to_paperidx = defaultdict()\n",
    "        \n",
    "        if process:\n",
    "            self.get_id_word_mapping()\n",
    "            self.populate_papers(papers_info_dict_list)\n",
    "            \n",
    "    def get_id_word_mapping(self):\n",
    "        # vocab_id to actual word mapping\n",
    "        for idx,word in enumerate(self.vocab):\n",
    "            self.id_to_word[idx] = word\n",
    "            self.word_to_id[word] = idx\n",
    "            \n",
    "    def populate_papers(self,papers_info_dict_list):\n",
    "        for paper_dict in papers_info_dict_list:\n",
    "            self.doi_to_paperidx[paper_dict['doi']] = len(self.papers)\n",
    "            self.papers.append(Paper(paper_dict['doi'],\n",
    "                                     None,\n",
    "                                     paper_dict['year'],\n",
    "                                     paper_dict['full_abstract'],\n",
    "                                     paper_dict['updated_abstract'],\n",
    "                                     paper_dict['abstract_word_distr']\n",
    "                                    ))"
   ]
  },
  {
   "cell_type": "code",
   "execution_count": 11,
   "id": "c15415b6",
   "metadata": {},
   "outputs": [],
   "source": [
    "corpusobj = APSCorpus(vocab = data['vocab'],papers_info_dict_list = doc_info_dict_list)"
   ]
  },
  {
   "cell_type": "markdown",
   "id": "c0d24638",
   "metadata": {},
   "source": [
    "# Save data to disk"
   ]
  },
  {
   "cell_type": "code",
   "execution_count": 12,
   "id": "6c669001",
   "metadata": {},
   "outputs": [],
   "source": [
    "# Save data to file \n",
    "file_aps = open('data/apscorpus.obj', 'wb') \n",
    "pickle.dump(corpusobj, file_aps)"
   ]
  },
  {
   "cell_type": "code",
   "execution_count": 13,
   "id": "c53d3ee8",
   "metadata": {},
   "outputs": [],
   "source": [
    "# load data\n",
    "filehandler = open('data/apscorpus.obj', 'rb') \n",
    "data_obj = pickle.load(filehandler)"
   ]
  },
  {
   "cell_type": "code",
   "execution_count": 14,
   "id": "c4e4c4f9",
   "metadata": {},
   "outputs": [
    {
     "data": {
      "text/plain": [
       "'studi effect -site coulomb repuls process reson tunnel find tunnel peak result crossov high-temperatur kondo phase low-temperatur mixed-val phase system chemic potenti vari across -site localized-st energi consequ line shape non-lorentzian rather unusu temperatur depend moreov magnet field split tunnel peak line shape modifi effect coupl local state also discuss'"
      ]
     },
     "execution_count": 14,
     "metadata": {},
     "output_type": "execute_result"
    }
   ],
   "source": [
    "# Example use case\n",
    "id_ = 249000\n",
    "data_obj.papers[id_].processed_abstract"
   ]
  },
  {
   "cell_type": "code",
   "execution_count": 15,
   "id": "19a1a0e8",
   "metadata": {},
   "outputs": [
    {
     "data": {
      "text/plain": [
       "'We study the effect of on-site Coulomb repulsion on the process of resonant tunneling. We find that the tunneling peak results from a crossover from the high-temperature Kondo phase to the low-temperature mixed-valence phase of the system when the chemical potential is varied across the on-site localized-state energy. Consequently, the line shape is non-Lorentzian, with rather unusual temperature dependence. Moreover, a magnetic field does not split the tunneling peak, but the line shape is modified. The effect of coupling between localized states is also discussed.'"
      ]
     },
     "execution_count": 15,
     "metadata": {},
     "output_type": "execute_result"
    }
   ],
   "source": [
    "data_obj.papers[id_].full_abstract"
   ]
  },
  {
   "cell_type": "code",
   "execution_count": 16,
   "id": "180f7bae",
   "metadata": {},
   "outputs": [
    {
     "data": {
      "text/plain": [
       "'10.1103/PhysRevLett.61.1768'"
      ]
     },
     "execution_count": 16,
     "metadata": {},
     "output_type": "execute_result"
    }
   ],
   "source": [
    "data_obj.papers[id_].doi"
   ]
  },
  {
   "cell_type": "code",
   "execution_count": 17,
   "id": "e5b1abc8",
   "metadata": {},
   "outputs": [
    {
     "data": {
      "text/plain": [
       "1988"
      ]
     },
     "execution_count": 17,
     "metadata": {},
     "output_type": "execute_result"
    }
   ],
   "source": [
    "data_obj.papers[id_].year"
   ]
  },
  {
   "cell_type": "code",
   "execution_count": 18,
   "id": "ee53cf26",
   "metadata": {},
   "outputs": [
    {
     "data": {
      "text/plain": [
       "249000"
      ]
     },
     "execution_count": 18,
     "metadata": {},
     "output_type": "execute_result"
    }
   ],
   "source": [
    "data_obj.doi_to_paperidx['10.1103/PhysRevLett.61.1768']"
   ]
  },
  {
   "cell_type": "code",
   "execution_count": null,
   "id": "10bb3ee0",
   "metadata": {},
   "outputs": [],
   "source": []
  },
  {
   "cell_type": "code",
   "execution_count": null,
   "id": "d9f9ac30",
   "metadata": {},
   "outputs": [],
   "source": []
  },
  {
   "cell_type": "code",
   "execution_count": null,
   "id": "0ecd7e46",
   "metadata": {},
   "outputs": [],
   "source": []
  },
  {
   "cell_type": "code",
   "execution_count": null,
   "id": "a0c2d094",
   "metadata": {},
   "outputs": [],
   "source": []
  },
  {
   "cell_type": "markdown",
   "id": "1ef0c60b",
   "metadata": {},
   "source": [
    "# Draft"
   ]
  },
  {
   "cell_type": "code",
   "execution_count": 3,
   "id": "79c892a9",
   "metadata": {},
   "outputs": [
    {
     "data": {
      "text/plain": [
       "dict_keys(['documents', 'vocab', 'meta', 'words.removed', 'docs.removed', 'tokens.removed', 'wordcounts'])"
      ]
     },
     "execution_count": 3,
     "metadata": {},
     "output_type": "execute_result"
    }
   ],
   "source": [
    "data.keys()"
   ]
  },
  {
   "cell_type": "code",
   "execution_count": 10,
   "id": "ddb50ee6",
   "metadata": {},
   "outputs": [
    {
     "data": {
      "text/plain": [
       "249281"
      ]
     },
     "execution_count": 10,
     "metadata": {},
     "output_type": "execute_result"
    }
   ],
   "source": [
    "len(data['meta'])"
   ]
  },
  {
   "cell_type": "code",
   "execution_count": 7,
   "id": "fc4c1440",
   "metadata": {},
   "outputs": [
    {
     "data": {
      "text/plain": [
       "dict_keys(['doi', 'abstract', 'year'])"
      ]
     },
     "execution_count": 7,
     "metadata": {},
     "output_type": "execute_result"
    }
   ],
   "source": [
    "data['meta'][0].keys()"
   ]
  },
  {
   "cell_type": "code",
   "execution_count": 35,
   "id": "12638794",
   "metadata": {},
   "outputs": [
    {
     "data": {
      "text/plain": [
       "'10.1103/PhysRevE.65.017102'"
      ]
     },
     "execution_count": 35,
     "metadata": {},
     "output_type": "execute_result"
    }
   ],
   "source": [
    "data['meta'][1]['doi']"
   ]
  },
  {
   "cell_type": "code",
   "execution_count": 9,
   "id": "50c6120e",
   "metadata": {},
   "outputs": [
    {
     "data": {
      "text/plain": [
       "90538"
      ]
     },
     "execution_count": 9,
     "metadata": {},
     "output_type": "execute_result"
    }
   ],
   "source": [
    "len(data['vocab'])"
   ]
  },
  {
   "cell_type": "code",
   "execution_count": 59,
   "id": "47d19f24",
   "metadata": {},
   "outputs": [
    {
     "data": {
      "text/plain": [
       "'wavelength-scan'"
      ]
     },
     "execution_count": 59,
     "metadata": {},
     "output_type": "execute_result"
    }
   ],
   "source": [
    "data['vocab'][84083]"
   ]
  },
  {
   "cell_type": "code",
   "execution_count": 19,
   "id": "0e2df985",
   "metadata": {},
   "outputs": [
    {
     "data": {
      "text/plain": [
       "249281"
      ]
     },
     "execution_count": 19,
     "metadata": {},
     "output_type": "execute_result"
    }
   ],
   "source": [
    "len(data['documents'])"
   ]
  },
  {
   "cell_type": "code",
   "execution_count": 70,
   "id": "68e3a970",
   "metadata": {},
   "outputs": [
    {
     "data": {
      "text/plain": [
       "[[7749,\n",
       "  10810,\n",
       "  12518,\n",
       "  14884,\n",
       "  16453,\n",
       "  16667,\n",
       "  18022,\n",
       "  19950,\n",
       "  20847,\n",
       "  21031,\n",
       "  21251,\n",
       "  25531,\n",
       "  29009,\n",
       "  37051,\n",
       "  46334,\n",
       "  47054,\n",
       "  48262,\n",
       "  55083,\n",
       "  55145,\n",
       "  55418,\n",
       "  57931,\n",
       "  64248,\n",
       "  65685,\n",
       "  66247,\n",
       "  71145,\n",
       "  73168,\n",
       "  80421,\n",
       "  80492,\n",
       "  80620,\n",
       "  83529],\n",
       " [1,\n",
       "  1,\n",
       "  1,\n",
       "  1,\n",
       "  1,\n",
       "  1,\n",
       "  1,\n",
       "  1,\n",
       "  1,\n",
       "  2,\n",
       "  1,\n",
       "  1,\n",
       "  1,\n",
       "  1,\n",
       "  1,\n",
       "  1,\n",
       "  2,\n",
       "  2,\n",
       "  1,\n",
       "  1,\n",
       "  1,\n",
       "  1,\n",
       "  1,\n",
       "  1,\n",
       "  1,\n",
       "  1,\n",
       "  2,\n",
       "  1,\n",
       "  1,\n",
       "  1]]"
      ]
     },
     "execution_count": 70,
     "metadata": {},
     "output_type": "execute_result"
    }
   ],
   "source": [
    "data['documents']['1']"
   ]
  },
  {
   "cell_type": "code",
   "execution_count": 60,
   "id": "18177dbe",
   "metadata": {},
   "outputs": [],
   "source": [
    "# vocab_id to actual word mapping\n",
    "id_to_word = defaultdict()\n",
    "word_to_id = defaultdict()\n",
    "for idx,word in enumerate(data['vocab']):\n",
    "    id_to_word[idx] = word\n",
    "    word_to_id[word] = idx"
   ]
  },
  {
   "cell_type": "code",
   "execution_count": 31,
   "id": "70e0652e",
   "metadata": {},
   "outputs": [
    {
     "data": {
      "text/plain": [
       "90538"
      ]
     },
     "execution_count": 31,
     "metadata": {},
     "output_type": "execute_result"
    }
   ],
   "source": [
    "len(id_to_word.keys())"
   ]
  },
  {
   "cell_type": "code",
   "execution_count": 32,
   "id": "29bfb04a",
   "metadata": {},
   "outputs": [
    {
     "data": {
      "text/plain": [
       "(0, 90537)"
      ]
     },
     "execution_count": 32,
     "metadata": {},
     "output_type": "execute_result"
    }
   ],
   "source": [
    "min(id_to_word.keys()),max(id_to_word.keys())"
   ]
  },
  {
   "cell_type": "code",
   "execution_count": 33,
   "id": "680e7d57",
   "metadata": {},
   "outputs": [],
   "source": [
    "# documentwise: convert <id to count> mapping to <word to count> mapping\n",
    "doc_word_count_dict = defaultdict()\n",
    "\n",
    "doc_id = 0\n",
    "for doc_id_str, doc_list in data['documents'].items():\n",
    "    doc_dict = defaultdict()\n",
    "    for id_,count_ in zip(doc_list[0],doc_list[1]):\n",
    "        doc_dict[id_to_word[id_-1]]=count_ # -1 to compensate for R being 1-indexed\n",
    "    doc_word_count_dict[doc_id] = copy.deepcopy(doc_dict)\n",
    "    doc_id +=1\n",
    "    "
   ]
  },
  {
   "cell_type": "code",
   "execution_count": 34,
   "id": "edcc678a",
   "metadata": {},
   "outputs": [
    {
     "data": {
      "text/plain": [
       "defaultdict(None,\n",
       "            {'addit': 1,\n",
       "             'also': 1,\n",
       "             'analyt': 1,\n",
       "             'appli': 1,\n",
       "             'argument': 1,\n",
       "             'asymptot': 1,\n",
       "             'attach': 1,\n",
       "             'compon': 1,\n",
       "             'connect': 3,\n",
       "             'deviat': 1,\n",
       "             'distribut': 2,\n",
       "             'express': 1,\n",
       "             'extra': 1,\n",
       "             'group': 1,\n",
       "             'grown': 1,\n",
       "             'howev': 1,\n",
       "             'kind': 1,\n",
       "             'linear': 3,\n",
       "             'link': 2,\n",
       "             'logarithm': 1,\n",
       "             'mean': 1,\n",
       "             'necessari': 1,\n",
       "             'necessarili': 1,\n",
       "             'network': 1,\n",
       "             'node': 3,\n",
       "             'obtain': 1,\n",
       "             'point': 1,\n",
       "             'possess': 1,\n",
       "             'preferenti': 2,\n",
       "             'prove': 1,\n",
       "             'rate': 2,\n",
       "             'recogn': 1,\n",
       "             'scale-fre': 1,\n",
       "             'singl': 1,\n",
       "             'term': 1,\n",
       "             'time': 1,\n",
       "             'time-vari': 1,\n",
       "             'will': 2})"
      ]
     },
     "execution_count": 34,
     "metadata": {},
     "output_type": "execute_result"
    }
   ],
   "source": [
    "doc_word_count_dict[1]"
   ]
  },
  {
   "cell_type": "code",
   "execution_count": 36,
   "id": "7f97b921",
   "metadata": {},
   "outputs": [],
   "source": []
  },
  {
   "cell_type": "code",
   "execution_count": 37,
   "id": "11ae2931",
   "metadata": {},
   "outputs": [
    {
     "data": {
      "text/plain": [
       "'recogn time network grown addit node linear preferenti attach will possess scale-fre distribut connect prove analyt argument linear necessari compon obtain kind distribut howev preferenti link rate necessarili appli singl node group node connect also point time-vari mean connect link rate will deviat linear express extra asymptot logarithm term'"
      ]
     },
     "execution_count": 37,
     "metadata": {},
     "output_type": "execute_result"
    }
   ],
   "source": [
    "abstracts_list[1]"
   ]
  },
  {
   "cell_type": "code",
   "execution_count": 38,
   "id": "32cec010",
   "metadata": {},
   "outputs": [
    {
     "data": {
      "text/plain": [
       "249311"
      ]
     },
     "execution_count": 38,
     "metadata": {},
     "output_type": "execute_result"
    }
   ],
   "source": [
    "len(abstracts_list)"
   ]
  },
  {
   "cell_type": "code",
   "execution_count": 45,
   "id": "0e3187b5",
   "metadata": {},
   "outputs": [],
   "source": [
    "# these are the ids in processed$docs.removed and out$docs.removed during preproecessing in R\n",
    "docs_removed = [4920,10229,16848,17604,24092,68898,104301,108465,109275,118546,118907,128414,132047,135300,\n",
    "                157901,159166,159813,170490,184016,191411,195803,203451,204141,214446,221736,223792,241881,\n",
    "                246810,88613,126377] "
   ]
  },
  {
   "cell_type": "code",
   "execution_count": 48,
   "id": "a805465d",
   "metadata": {},
   "outputs": [
    {
     "data": {
      "text/plain": [
       "'be'"
      ]
     },
     "execution_count": 48,
     "metadata": {},
     "output_type": "execute_result"
    }
   ],
   "source": [
    "abstracts_list[24091]"
   ]
  },
  {
   "cell_type": "code",
   "execution_count": 43,
   "id": "1f30dc54",
   "metadata": {},
   "outputs": [
    {
     "data": {
      "text/plain": [
       "0"
      ]
     },
     "execution_count": 43,
     "metadata": {},
     "output_type": "execute_result"
    }
   ],
   "source": [
    "len(abstracts_list[4919])"
   ]
  },
  {
   "cell_type": "code",
   "execution_count": 51,
   "id": "59ad18c5",
   "metadata": {},
   "outputs": [],
   "source": [
    "updated_abstracts_list = []\n",
    "for idx,abstract in enumerate(abstracts_list):\n",
    "    if (idx+1 in docs_removed):\n",
    "        pass\n",
    "    else:\n",
    "        updated_abstracts_list.append(abstract)"
   ]
  },
  {
   "cell_type": "code",
   "execution_count": 52,
   "id": "392761f0",
   "metadata": {},
   "outputs": [
    {
     "data": {
      "text/plain": [
       "249281"
      ]
     },
     "execution_count": 52,
     "metadata": {},
     "output_type": "execute_result"
    }
   ],
   "source": [
    "len(updated_abstracts_list)"
   ]
  },
  {
   "cell_type": "code",
   "execution_count": null,
   "id": "9ddab7bd",
   "metadata": {},
   "outputs": [],
   "source": []
  }
 ],
 "metadata": {
  "kernelspec": {
   "display_name": "Python 3 (ipykernel)",
   "language": "python",
   "name": "python3"
  },
  "language_info": {
   "codemirror_mode": {
    "name": "ipython",
    "version": 3
   },
   "file_extension": ".py",
   "mimetype": "text/x-python",
   "name": "python",
   "nbconvert_exporter": "python",
   "pygments_lexer": "ipython3",
   "version": "3.9.7"
  }
 },
 "nbformat": 4,
 "nbformat_minor": 5
}
