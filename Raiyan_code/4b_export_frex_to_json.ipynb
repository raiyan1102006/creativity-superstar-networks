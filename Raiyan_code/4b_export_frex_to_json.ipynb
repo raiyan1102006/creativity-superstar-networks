{
 "cells": [
  {
   "cell_type": "code",
   "execution_count": 1,
   "metadata": {
    "colab": {
     "base_uri": "https://localhost:8080/"
    },
    "id": "TVLXlGt3rt1T",
    "outputId": "419b51db-a191-4be1-f8b8-e0a0284bbca0"
   },
   "outputs": [
    {
     "name": "stdout",
     "output_type": "stream",
     "text": [
      "Mounted at /content/gdrive\n"
     ]
    }
   ],
   "source": [
    "from google.colab import drive\n",
    "drive.mount('/content/gdrive')"
   ]
  },
  {
   "cell_type": "code",
   "execution_count": 3,
   "metadata": {
    "colab": {
     "base_uri": "https://localhost:8080/"
    },
    "id": "mRhbh8osruyP",
    "outputId": "375f84d8-3a2f-4756-8bce-cd4238fe02dd"
   },
   "outputs": [
    {
     "name": "stdout",
     "output_type": "stream",
     "text": [
      "/content/gdrive/MyDrive/Colab Notebooks/APS2\n"
     ]
    }
   ],
   "source": [
    "cd gdrive/MyDrive/Colab\\ Notebooks/APS2/"
   ]
  },
  {
   "cell_type": "code",
   "execution_count": 15,
   "metadata": {
    "colab": {
     "base_uri": "https://localhost:8080/"
    },
    "id": "Zpg42CdKsN8J",
    "outputId": "7d28fc8e-5c7b-4895-ec22-86028595134e"
   },
   "outputs": [
    {
     "name": "stdout",
     "output_type": "stream",
     "text": [
      "Requirement already satisfied: pyreadr in /usr/local/lib/python3.7/dist-packages (0.4.4)\n",
      "Requirement already satisfied: pandas>=1.2.0 in /usr/local/lib/python3.7/dist-packages (from pyreadr) (1.3.5)\n",
      "Requirement already satisfied: numpy>=1.17.3 in /usr/local/lib/python3.7/dist-packages (from pandas>=1.2.0->pyreadr) (1.21.5)\n",
      "Requirement already satisfied: python-dateutil>=2.7.3 in /usr/local/lib/python3.7/dist-packages (from pandas>=1.2.0->pyreadr) (2.8.2)\n",
      "Requirement already satisfied: pytz>=2017.3 in /usr/local/lib/python3.7/dist-packages (from pandas>=1.2.0->pyreadr) (2018.9)\n",
      "Requirement already satisfied: six>=1.5 in /usr/local/lib/python3.7/dist-packages (from python-dateutil>=2.7.3->pandas>=1.2.0->pyreadr) (1.15.0)\n"
     ]
    }
   ],
   "source": [
    "!pip install pyreadr\n",
    "import pyreadr\n",
    "import numpy as np\n",
    "import pandas as pd\n",
    "from collections import defaultdict\n",
    "import json "
   ]
  },
  {
   "cell_type": "code",
   "execution_count": 16,
   "metadata": {
    "id": "y7kTXvMOt651"
   },
   "outputs": [],
   "source": [
    "for k in [20,28,30,40,50,60]:\n",
    "    for frex in [0.25,0.5,0.75]:\n",
    "        filename = \"frexconcepts_k\"+str(k)+\"_frex\"+str(frex)\n",
    "        in_file = pyreadr.read_r(filename+\".rda\")\n",
    "        df = in_file['a'] # 'a' was the variable name of the object when exporting from R\n",
    "        out_dict = defaultdict()\n",
    "        for row_idx in range(k):\n",
    "            out_dict[row_idx] = list(df.iloc[row_idx])\n",
    "        with open(filename+\".json\", \"w\") as outfile:\n",
    "            json.dump(out_dict, outfile)\n"
   ]
  }
 ],
 "metadata": {
  "colab": {
   "collapsed_sections": [],
   "name": "APS_export.ipynb",
   "provenance": []
  },
  "kernelspec": {
   "display_name": "Python 3 (ipykernel)",
   "language": "python",
   "name": "python3"
  },
  "language_info": {
   "codemirror_mode": {
    "name": "ipython",
    "version": 3
   },
   "file_extension": ".py",
   "mimetype": "text/x-python",
   "name": "python",
   "nbconvert_exporter": "python",
   "pygments_lexer": "ipython3",
   "version": "3.9.7"
  }
 },
 "nbformat": 4,
 "nbformat_minor": 1
}
